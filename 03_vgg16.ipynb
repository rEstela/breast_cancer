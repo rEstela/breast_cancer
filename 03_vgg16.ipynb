{
 "cells": [
  {
   "cell_type": "code",
   "execution_count": 23,
   "id": "9f3e70ba-9911-4311-a9db-fb9dcb35c04f",
   "metadata": {},
   "outputs": [],
   "source": [
    "import os\n",
    "import numpy as np\n",
    "\n",
    "import tensorflow as tf\n",
    "from tensorflow.keras.preprocessing.image import img_to_array, load_img\n",
    "from tensorflow.keras.utils import to_categorical\n",
    "from tensorflow.keras.applications.vgg16 import VGG16, preprocess_input\n",
    "from tensorflow.keras.models import Model, Sequential\n",
    "from tensorflow.keras.layers import Dense, Flatten, Dropout, Input, Lambda\n",
    "from tensorflow.keras.optimizers import Adam\n",
    "from tensorflow.keras import layers\n",
    "\n",
    "from sklearn.model_selection import train_test_split\n",
    "from sklearn.preprocessing import LabelEncoder\n",
    "\n",
    "from sklearn.metrics import confusion_matrix\n",
    "import seaborn as sns\n",
    "import matplotlib.pyplot as plt"
   ]
  },
  {
   "cell_type": "code",
   "execution_count": 24,
   "id": "bfb38395-57d5-4d9b-a05b-b4cf12f78a45",
   "metadata": {},
   "outputs": [],
   "source": [
    "def load_data(data_dir):\n",
    "    '''\n",
    "    Carrega os arquivos da pasta, separando as imagens e os labels correspondentes já codificados \n",
    "    '''\n",
    "    # Lista para armazenar imagens e rótulos\n",
    "    images = []\n",
    "    labels = []\n",
    "    \n",
    "    # Loop sobre os arquivos no diretório\n",
    "    for filename in os.listdir(data_dir):\n",
    "        if filename.endswith('.png'):  # Supondo que suas imagens tenham extensão .jpg\n",
    "            img = load_img(os.path.join(data_dir, filename), target_size=(300, 300))\n",
    "            img_array = img_to_array(img)\n",
    "            images.append(img_array)\n",
    "            \n",
    "            # Extrair rótulo do nome do arquivo\n",
    "            label = filename.split(' ')[0]  # Pega o rótulo antes do espaço em branco\n",
    "            labels.append(label)\n",
    "\n",
    "    # Codificar rótulos em números\n",
    "    label_encoder = LabelEncoder()\n",
    "    labels = label_encoder.fit_transform(labels)\n",
    "\n",
    "    # Converter para array numpy\n",
    "    images = np.array(images)\n",
    "    labels = to_categorical(labels)\n",
    "\n",
    "    return images, labels, label_encoder"
   ]
  },
  {
   "cell_type": "code",
   "execution_count": 25,
   "id": "e2c0b1dd-47ed-4752-9f1a-90ef739fb310",
   "metadata": {},
   "outputs": [],
   "source": [
    "def compute_class_weights(y_train):\n",
    "    # Calcular pesos das classes baseados na distribuição dos dados\n",
    "    class_weights = {}\n",
    "    total_samples = len(y_train)\n",
    "    num_classes = len(np.unique(np.argmax(y_train, axis=1)))\n",
    "    for i in range(num_classes):\n",
    "        class_count = np.sum(np.argmax(y_train, axis=1) == i)\n",
    "        class_weights[i] = total_samples / (num_classes * class_count)\n",
    "\n",
    "    return class_weights"
   ]
  },
  {
   "cell_type": "code",
   "execution_count": 26,
   "id": "1c25885b-fa27-4a6b-a278-afe1e2177b5e",
   "metadata": {},
   "outputs": [],
   "source": [
    "def get_model(input_shape=(300,300,3), num_class=3):\n",
    "    # Carregar o modelo VGG-16 pré-treinado\n",
    "    base_model = VGG16(weights='imagenet', include_top=False, input_shape=input_shape)\n",
    "    \n",
    "    # Congelar as camadas do modelo base\n",
    "    for layer in base_model.layers:\n",
    "        layer.trainable = False\n",
    "\n",
    "    inputs = Input(shape=input_shape)\n",
    "    x = Lambda(preprocess_input)(inputs)  # Aplicando a função preprocess_input como uma camada Lambda\n",
    "    x = base_model(x, training=False)  # Modo de inferência para base_model\n",
    "    # Adicionar camadas personalizadas\n",
    "    x = Flatten()(x)\n",
    "    x = Dense(256, activation='relu')(x)\n",
    "    x = Dropout(0.5)(x)\n",
    "    predictions = Dense(num_class, activation='softmax')(x)\n",
    "    model = Model(inputs, predictions)\n",
    "    \n",
    "    # Compilar o modelo\n",
    "    model.compile(optimizer=Adam(), loss='categorical_crossentropy', metrics=['accuracy'])\n",
    "\n",
    "    # Apresenta um sumário do modelo\n",
    "    model.summary()\n",
    "\n",
    "    return model"
   ]
  },
  {
   "cell_type": "code",
   "execution_count": 27,
   "id": "efff3eeb-e0c3-4331-831c-a0cfada1d8c5",
   "metadata": {},
   "outputs": [
    {
     "name": "stdout",
     "output_type": "stream",
     "text": [
      "Model: \"model\"\n",
      "_________________________________________________________________\n",
      " Layer (type)                Output Shape              Param #   \n",
      "=================================================================\n",
      " input_6 (InputLayer)        [(None, 300, 300, 3)]     0         \n",
      "                                                                 \n",
      " lambda (Lambda)             (None, 300, 300, 3)       0         \n",
      "                                                                 \n",
      " vgg16 (Functional)          (None, 9, 9, 512)         14714688  \n",
      "                                                                 \n",
      " flatten_1 (Flatten)         (None, 41472)             0         \n",
      "                                                                 \n",
      " dense_2 (Dense)             (None, 256)               10617088  \n",
      "                                                                 \n",
      " dropout_1 (Dropout)         (None, 256)               0         \n",
      "                                                                 \n",
      " dense_3 (Dense)             (None, 3)                 771       \n",
      "                                                                 \n",
      "=================================================================\n",
      "Total params: 25332547 (96.64 MB)\n",
      "Trainable params: 10617859 (40.50 MB)\n",
      "Non-trainable params: 14714688 (56.13 MB)\n",
      "_________________________________________________________________\n"
     ]
    }
   ],
   "source": [
    "# Diretório com suas imagens\n",
    "data_dir = 'C:/Users/estela.ribeiro/JupyterNotebooks/side_job_breat_cancer/dataset/images/'\n",
    "\n",
    "# Carregar os dados\n",
    "images, labels, label_encoder = load_data(data_dir)\n",
    "\n",
    "# Dividir os dados em conjuntos de treinamento e validação\n",
    "X_train, X_val, y_train, y_val = train_test_split(images, labels, test_size=0.2, shuffle=True, random_state=42)\n",
    "\n",
    "# Calcular pesos das classes\n",
    "class_weights = compute_class_weights(y_train)\n",
    "\n",
    "# Criar o modelo\n",
    "input_shape = (300, 300, 3)\n",
    "num_classes = 3  # Número de classes: benign, malign, normal\n",
    "model = get_model(input_shape, num_classes)"
   ]
  },
  {
   "cell_type": "code",
   "execution_count": 28,
   "id": "21ea97d7-f3b4-43dc-866d-2e220ad88e04",
   "metadata": {},
   "outputs": [
    {
     "name": "stdout",
     "output_type": "stream",
     "text": [
      "Epoch 1/15\n",
      "20/20 [==============================] - 619s 31s/step - loss: 14.6513 - accuracy: 0.5513 - val_loss: 3.7261 - val_accuracy: 0.7115\n",
      "Epoch 2/15\n",
      "20/20 [==============================] - 576s 29s/step - loss: 1.8520 - accuracy: 0.8173 - val_loss: 1.9030 - val_accuracy: 0.7179\n",
      "Epoch 3/15\n",
      "20/20 [==============================] - 578s 29s/step - loss: 0.4786 - accuracy: 0.8894 - val_loss: 0.6167 - val_accuracy: 0.8397\n",
      "Epoch 4/15\n",
      "20/20 [==============================] - 574s 29s/step - loss: 0.2932 - accuracy: 0.8990 - val_loss: 0.7494 - val_accuracy: 0.7564\n",
      "Epoch 5/15\n",
      "20/20 [==============================] - 576s 29s/step - loss: 0.2049 - accuracy: 0.9247 - val_loss: 0.6683 - val_accuracy: 0.8269\n",
      "Epoch 6/15\n",
      "20/20 [==============================] - 585s 30s/step - loss: 0.2825 - accuracy: 0.9519 - val_loss: 0.7330 - val_accuracy: 0.8141\n",
      "Epoch 7/15\n",
      "20/20 [==============================] - 577s 29s/step - loss: 0.1487 - accuracy: 0.9423 - val_loss: 0.7659 - val_accuracy: 0.8333\n",
      "Epoch 8/15\n",
      "20/20 [==============================] - 588s 30s/step - loss: 0.1406 - accuracy: 0.9615 - val_loss: 0.7600 - val_accuracy: 0.8333\n",
      "Epoch 9/15\n",
      "20/20 [==============================] - 593s 30s/step - loss: 0.0807 - accuracy: 0.9551 - val_loss: 0.9771 - val_accuracy: 0.8526\n",
      "Epoch 10/15\n",
      "20/20 [==============================] - 587s 30s/step - loss: 0.1572 - accuracy: 0.9599 - val_loss: 0.9441 - val_accuracy: 0.8397\n",
      "Epoch 11/15\n",
      "20/20 [==============================] - 582s 29s/step - loss: 0.1394 - accuracy: 0.9696 - val_loss: 0.9752 - val_accuracy: 0.8333\n",
      "Epoch 12/15\n",
      "20/20 [==============================] - 594s 30s/step - loss: 0.1271 - accuracy: 0.9615 - val_loss: 0.8954 - val_accuracy: 0.8397\n",
      "Epoch 13/15\n",
      "20/20 [==============================] - 582s 29s/step - loss: 0.1211 - accuracy: 0.9647 - val_loss: 0.8596 - val_accuracy: 0.8333\n",
      "Epoch 14/15\n",
      "20/20 [==============================] - 589s 30s/step - loss: 0.0925 - accuracy: 0.9679 - val_loss: 0.6955 - val_accuracy: 0.8526\n",
      "Epoch 15/15\n",
      "20/20 [==============================] - 581s 29s/step - loss: 0.1254 - accuracy: 0.9679 - val_loss: 0.6801 - val_accuracy: 0.8526\n"
     ]
    },
    {
     "data": {
      "text/plain": [
       "<keras.src.callbacks.History at 0x26900b4c250>"
      ]
     },
     "execution_count": 28,
     "metadata": {},
     "output_type": "execute_result"
    }
   ],
   "source": [
    "# Treinar o modelo\n",
    "model.fit(X_train, y_train, epochs=15, validation_data=(X_val, y_val), class_weight=class_weights)"
   ]
  },
  {
   "cell_type": "code",
   "execution_count": 29,
   "id": "3019335b-b7dd-4c98-9ff7-bbc5e56d4209",
   "metadata": {},
   "outputs": [
    {
     "name": "stdout",
     "output_type": "stream",
     "text": [
      "5/5 [==============================] - 116s 23s/step - loss: 0.6801 - accuracy: 0.8526\n",
      "Loss: 0.6801010966300964\n",
      "Accuracy: 0.8525640964508057\n"
     ]
    }
   ],
   "source": [
    "# Avaliar o desempenho do modelo\n",
    "loss, accuracy = model.evaluate(X_val, y_val)\n",
    "print(\"Loss:\", loss)\n",
    "print(\"Accuracy:\", accuracy)"
   ]
  },
  {
   "cell_type": "code",
   "execution_count": 30,
   "id": "3aad88df-841c-4098-92fd-8386707f2cc1",
   "metadata": {},
   "outputs": [
    {
     "name": "stdout",
     "output_type": "stream",
     "text": [
      "5/5 [==============================] - 116s 23s/step\n"
     ]
    }
   ],
   "source": [
    "# Fazer previsões no conjunto de validação\n",
    "y_pred = model.predict(X_val)\n",
    "y_pred_classes = np.argmax(y_pred, axis=1)\n",
    "y_true = np.argmax(y_val, axis=1)"
   ]
  },
  {
   "cell_type": "code",
   "execution_count": 31,
   "id": "19be25a9-6b0f-4b2b-ab14-a6c9ca2b9f4b",
   "metadata": {},
   "outputs": [
    {
     "data": {
      "image/png": "[encoded data removed]",
      "text/plain": [
       "<Figure size 800x600 with 2 Axes>"
      ]
     },
     "metadata": {},
     "output_type": "display_data"
    }
   ],
   "source": [
    "# Calcular a matriz de confusão\n",
    "conf_matrix = confusion_matrix(y_true, y_pred_classes)\n",
    "\n",
    "# Plotar a matriz de confusão\n",
    "plt.figure(figsize=(8, 6))\n",
    "sns.heatmap(conf_matrix, annot=True, fmt='d', cmap='Blues', \n",
    "            xticklabels=label_encoder.classes_, \n",
    "            yticklabels=label_encoder.classes_)\n",
    "plt.xlabel('Predicted labels')\n",
    "plt.ylabel('True labels')\n",
    "plt.title('Confusion Matrix')\n",
    "plt.show()"
   ]
  },
  {
   "cell_type": "code",
   "execution_count": 32,
   "id": "5129f572-1ece-48e4-bc13-bbaeec1ca355",
   "metadata": {},
   "outputs": [],
   "source": [
    "from sklearn.metrics import confusion_matrix, precision_score, recall_score, f1_score, roc_auc_score, cohen_kappa_score\n",
    "\n",
    "def classification_metrics_multiclass(y_true, y_pred, model, fold):\n",
    "    '''\n",
    "    Generate multiclass classification analysis\n",
    "    '''\n",
    "    \n",
    "    # Confusion matrix for multiclass\n",
    "    cm = confusion_matrix(y_true, y_pred)\n",
    "    \n",
    "    # Per-class metrics\n",
    "    precision_per_class = precision_score(y_true, y_pred, average=None)\n",
    "    recall_per_class = recall_score(y_true, y_pred, average=None)\n",
    "    f1_score_per_class = f1_score(y_true, y_pred, average=None)\n",
    "    \n",
    "    # Overall metrics\n",
    "    accuracy = (cm.diagonal().sum()) / cm.sum()\n",
    "    precision_macro = precision_score(y_true, y_pred, average='macro')\n",
    "    recall_macro = recall_score(y_true, y_pred, average='macro')\n",
    "    f1_score_macro = f1_score(y_true, y_pred, average='macro')\n",
    "    \n",
    "    try:\n",
    "        auc_value = roc_auc_score(y_true, y_pred, multi_class='ovr')\n",
    "    except ValueError:\n",
    "        auc_value = None  # AUC calculation might fail if there's not enough variety in predictions\n",
    "    \n",
    "    kappa = cohen_kappa_score(y_true, y_pred)\n",
    "    \n",
    "    return {\n",
    "        \"model\": model, \n",
    "        \"fold\": fold,\n",
    "        \"confusion_matrix\": cm,\n",
    "        \"accuracy\": accuracy,\n",
    "        \"precision_per_class\": precision_per_class.tolist(), \n",
    "        \"recall_per_class\": recall_per_class.tolist(), \n",
    "        \"f1_score_per_class\": f1_score_per_class.tolist(),\n",
    "        \"precision_macro\": precision_macro,\n",
    "        \"recall_macro\": recall_macro,\n",
    "        \"f1_score_macro\": f1_score_macro,\n",
    "        \"auc\": auc_value, \n",
    "        \"kappa\": kappa\n",
    "    }"
   ]
  },
  {
   "cell_type": "code",
   "execution_count": 33,
   "id": "fd06f57e-8fb0-4ea4-8be5-ee406ee55492",
   "metadata": {},
   "outputs": [],
   "source": [
    "results = classification_metrics_multiclass(y_true, y_pred_classes, 'vgg16', '1')"
   ]
  },
  {
   "cell_type": "code",
   "execution_count": 34,
   "id": "5eb90570-797e-4e8b-a55d-ba0c1aecfbb6",
   "metadata": {},
   "outputs": [
    {
     "data": {
      "text/plain": [
       "{'model': 'vgg16',\n",
       " 'fold': '1',\n",
       " 'confusion_matrix': array([[76,  5,  3],\n",
       "        [11, 31,  1],\n",
       "        [ 3,  0, 26]], dtype=int64),\n",
       " 'accuracy': 0.8525641025641025,\n",
       " 'precision_per_class': [0.8444444444444444,\n",
       "  0.8611111111111112,\n",
       "  0.8666666666666667],\n",
       " 'recall_per_class': [0.9047619047619048,\n",
       "  0.7209302325581395,\n",
       "  0.896551724137931],\n",
       " 'f1_score_per_class': [0.8735632183908046,\n",
       "  0.7848101265822784,\n",
       "  0.8813559322033898],\n",
       " 'precision_macro': 0.8574074074074075,\n",
       " 'recall_macro': 0.8407479538193251,\n",
       " 'f1_score_macro': 0.846576425725491,\n",
       " 'auc': None,\n",
       " 'kappa': 0.7501044713748433}"
      ]
     },
     "execution_count": 34,
     "metadata": {},
     "output_type": "execute_result"
    }
   ],
   "source": [
    "results"
   ]
  },
  {
   "cell_type": "code",
   "execution_count": null,
   "id": "aa4e8b16-b135-4963-afcd-67aefe83cdb8",
   "metadata": {},
   "outputs": [],
   "source": []
  }
 ],
 "metadata": {
  "kernelspec": {
   "display_name": "Python 3 (ipykernel)",
   "language": "python",
   "name": "python3"
  },
  "language_info": {
   "codemirror_mode": {
    "name": "ipython",
    "version": 3
   },
   "file_extension": ".py",
   "mimetype": "text/x-python",
   "name": "python",
   "nbconvert_exporter": "python",
   "pygments_lexer": "ipython3",
   "version": "3.11.7"
  }
 },
 "nbformat": 4,
 "nbformat_minor": 5
}
