{
 "cells": [
  {
   "cell_type": "code",
   "execution_count": 1,
   "id": "9f3e70ba-9911-4311-a9db-fb9dcb35c04f",
   "metadata": {},
   "outputs": [],
   "source": [
    "import os\n",
    "import numpy as np\n",
    "\n",
    "import tensorflow as tf\n",
    "from tensorflow.keras.preprocessing.image import img_to_array, load_img\n",
    "from tensorflow.keras.utils import to_categorical\n",
    "from tensorflow.keras.applications import VGG16\n",
    "from tensorflow.keras.models import Sequential\n",
    "from tensorflow.keras.layers import Dense, Flatten, Dropout\n",
    "from tensorflow.keras.optimizers import Adam\n",
    "\n",
    "from sklearn.model_selection import train_test_split\n",
    "from sklearn.preprocessing import LabelEncoder\n",
    "\n",
    "from sklearn.metrics import confusion_matrix\n",
    "import seaborn as sns\n",
    "import matplotlib.pyplot as plt"
   ]
  },
  {
   "cell_type": "code",
   "execution_count": 11,
   "id": "bfb38395-57d5-4d9b-a05b-b4cf12f78a45",
   "metadata": {},
   "outputs": [],
   "source": [
    "def load_data(data_dir):\n",
    "    '''\n",
    "    Carrega os arquivos da pasta, separando as imagens e os labels correspondentes já codificados \n",
    "    '''\n",
    "    # Lista para armazenar imagens e rótulos\n",
    "    images = []\n",
    "    labels = []\n",
    "    \n",
    "    # Loop sobre os arquivos no diretório\n",
    "    for filename in os.listdir(data_dir):\n",
    "        if filename.endswith('.png'):  # Supondo que suas imagens tenham extensão .jpg\n",
    "            img = load_img(os.path.join(data_dir, filename), target_size=(300, 300))\n",
    "            img_array = img_to_array(img)\n",
    "            images.append(img_array)\n",
    "            \n",
    "            # Extrair rótulo do nome do arquivo\n",
    "            label = filename.split(' ')[0]  # Pega o rótulo antes do espaço em branco\n",
    "            labels.append(label)\n",
    "\n",
    "    # Codificar rótulos em números\n",
    "    label_encoder = LabelEncoder()\n",
    "    labels = label_encoder.fit_transform(labels)\n",
    "\n",
    "    # Converter para array numpy\n",
    "    images = np.array(images)\n",
    "    labels = to_categorical(labels)\n",
    "\n",
    "    return images, labels, label_encoder"
   ]
  },
  {
   "cell_type": "code",
   "execution_count": 10,
   "id": "e2c0b1dd-47ed-4752-9f1a-90ef739fb310",
   "metadata": {},
   "outputs": [],
   "source": [
    "def compute_class_weights(y_train):\n",
    "    # Calcular pesos das classes baseados na distribuição dos dados\n",
    "    class_weights = {}\n",
    "    total_samples = len(y_train)\n",
    "    num_classes = len(np.unique(np.argmax(y_train, axis=1)))\n",
    "    for i in range(num_classes):\n",
    "        class_count = np.sum(np.argmax(y_train, axis=1) == i)\n",
    "        class_weights[i] = total_samples / (num_classes * class_count)\n",
    "\n",
    "    return class_weights"
   ]
  },
  {
   "cell_type": "code",
   "execution_count": 4,
   "id": "1c25885b-fa27-4a6b-a278-afe1e2177b5e",
   "metadata": {},
   "outputs": [],
   "source": [
    "def get_model(input_shape=(300,300,3), num_class=3):\n",
    "    # Carregar o modelo VGG-16 pré-treinado\n",
    "    base_model = VGG16(weights='imagenet', include_top=False, input_shape=input_shape)\n",
    "    \n",
    "    # Congelar as camadas do modelo base\n",
    "    for layer in base_model.layers:\n",
    "        layer.trainable = False\n",
    "    \n",
    "    # Adicionar camadas personalizadas\n",
    "    model = Sequential()\n",
    "    model.add(base_model)\n",
    "    model.add(Flatten())\n",
    "    model.add(Dense(512, activation='relu'))\n",
    "    model.add(Dropout(0.5))\n",
    "    model.add(Dense(num_class, activation='softmax'))  # 3 classes: benign, malign, normal\n",
    "    \n",
    "    # Compilar o modelo\n",
    "    model.compile(optimizer=Adam(), loss='categorical_crossentropy', metrics=['accuracy'])\n",
    "\n",
    "    # Apresenta um sumário do modelo\n",
    "    #model.summary()\n",
    "\n",
    "    return model"
   ]
  },
  {
   "cell_type": "code",
   "execution_count": 12,
   "id": "efff3eeb-e0c3-4331-831c-a0cfada1d8c5",
   "metadata": {},
   "outputs": [],
   "source": [
    "# Diretório com suas imagens\n",
    "data_dir = 'C:/Users/estel/Documents/Python_Codes/breast_cancer/preprocessed/images/'\n",
    "\n",
    "# Carregar os dados\n",
    "images, labels, label_encoder = load_data(data_dir)\n",
    "\n",
    "# Dividir os dados em conjuntos de treinamento e validação\n",
    "X_train, X_val, y_train, y_val = train_test_split(images, labels, test_size=0.2, shuffle=True, random_state=42)\n",
    "\n",
    "# Calcular pesos das classes\n",
    "class_weights = compute_class_weights(y_train)\n",
    "\n",
    "# Criar o modelo\n",
    "input_shape = (300, 300, 3)\n",
    "num_classes = 3  # Número de classes: benign, malign, normal\n",
    "model = get_model(input_shape, num_classes)"
   ]
  },
  {
   "cell_type": "code",
   "execution_count": 6,
   "id": "21ea97d7-f3b4-43dc-866d-2e220ad88e04",
   "metadata": {},
   "outputs": [
    {
     "name": "stdout",
     "output_type": "stream",
     "text": [
      "Epoch 1/5\n",
      "\u001b[1m20/20\u001b[0m \u001b[32m━━━━━━━━━━━━━━━━━━━━\u001b[0m\u001b[37m\u001b[0m \u001b[1m383s\u001b[0m 17s/step - accuracy: 0.5160 - loss: 26.5219 - val_accuracy: 0.6731 - val_loss: 8.1015\n",
      "Epoch 2/5\n",
      "\u001b[1m20/20\u001b[0m \u001b[32m━━━━━━━━━━━━━━━━━━━━\u001b[0m\u001b[37m\u001b[0m \u001b[1m305s\u001b[0m 15s/step - accuracy: 0.7818 - loss: 7.0166 - val_accuracy: 0.7115 - val_loss: 3.7631\n",
      "Epoch 3/5\n",
      "\u001b[1m20/20\u001b[0m \u001b[32m━━━━━━━━━━━━━━━━━━━━\u001b[0m\u001b[37m\u001b[0m \u001b[1m333s\u001b[0m 17s/step - accuracy: 0.8326 - loss: 1.5708 - val_accuracy: 0.7756 - val_loss: 2.3046\n",
      "Epoch 4/5\n",
      "\u001b[1m20/20\u001b[0m \u001b[32m━━━━━━━━━━━━━━━━━━━━\u001b[0m\u001b[37m\u001b[0m \u001b[1m384s\u001b[0m 19s/step - accuracy: 0.9342 - loss: 0.4272 - val_accuracy: 0.7885 - val_loss: 1.8602\n",
      "Epoch 5/5\n",
      "\u001b[1m20/20\u001b[0m \u001b[32m━━━━━━━━━━━━━━━━━━━━\u001b[0m\u001b[37m\u001b[0m \u001b[1m328s\u001b[0m 16s/step - accuracy: 0.9387 - loss: 0.2904 - val_accuracy: 0.8141 - val_loss: 1.2700\n"
     ]
    },
    {
     "data": {
      "text/plain": [
       "<keras.src.callbacks.history.History at 0x21aea8399f0>"
      ]
     },
     "execution_count": 6,
     "metadata": {},
     "output_type": "execute_result"
    }
   ],
   "source": [
    "# Treinar o modelo\n",
    "model.fit(X_train, y_train, epochs=5, validation_data=(X_val, y_val), class_weight=class_weights)"
   ]
  },
  {
   "cell_type": "code",
   "execution_count": 7,
   "id": "3019335b-b7dd-4c98-9ff7-bbc5e56d4209",
   "metadata": {},
   "outputs": [
    {
     "name": "stdout",
     "output_type": "stream",
     "text": [
      "\u001b[1m5/5\u001b[0m \u001b[32m━━━━━━━━━━━━━━━━━━━━\u001b[0m\u001b[37m\u001b[0m \u001b[1m62s\u001b[0m 12s/step - accuracy: 0.7896 - loss: 1.3765\n",
      "Loss: 1.270000696182251\n",
      "Accuracy: 0.8141025900840759\n"
     ]
    }
   ],
   "source": [
    "# Avaliar o desempenho do modelo\n",
    "loss, accuracy = model.evaluate(X_val, y_val)\n",
    "print(\"Loss:\", loss)\n",
    "print(\"Accuracy:\", accuracy)"
   ]
  },
  {
   "cell_type": "code",
   "execution_count": 8,
   "id": "3aad88df-841c-4098-92fd-8386707f2cc1",
   "metadata": {},
   "outputs": [
    {
     "name": "stdout",
     "output_type": "stream",
     "text": [
      "\u001b[1m5/5\u001b[0m \u001b[32m━━━━━━━━━━━━━━━━━━━━\u001b[0m\u001b[37m\u001b[0m \u001b[1m115s\u001b[0m 13s/step\n"
     ]
    }
   ],
   "source": [
    "# Fazer previsões no conjunto de validação\n",
    "y_pred = model.predict(X_val)\n",
    "y_pred_classes = np.argmax(y_pred, axis=1)\n",
    "y_true = np.argmax(y_val, axis=1)"
   ]
  },
  {
   "cell_type": "code",
   "execution_count": 13,
   "id": "19be25a9-6b0f-4b2b-ab14-a6c9ca2b9f4b",
   "metadata": {},
   "outputs": [
    {
     "data": {
      "image/png": "[encoded data removed]",
      "text/plain": [
       "<Figure size 800x600 with 2 Axes>"
      ]
     },
     "metadata": {},
     "output_type": "display_data"
    }
   ],
   "source": [
    "# Calcular a matriz de confusão\n",
    "conf_matrix = confusion_matrix(y_true, y_pred_classes)\n",
    "\n",
    "# Plotar a matriz de confusão\n",
    "plt.figure(figsize=(8, 6))\n",
    "sns.heatmap(conf_matrix, annot=True, fmt='d', cmap='Blues', \n",
    "            xticklabels=label_encoder.classes_, \n",
    "            yticklabels=label_encoder.classes_)\n",
    "plt.xlabel('Predicted labels')\n",
    "plt.ylabel('True labels')\n",
    "plt.title('Confusion Matrix')\n",
    "plt.show()"
   ]
  },
  {
   "cell_type": "code",
   "execution_count": 14,
   "id": "5129f572-1ece-48e4-bc13-bbaeec1ca355",
   "metadata": {},
   "outputs": [],
   "source": [
    "from sklearn.metrics import confusion_matrix, precision_score, recall_score, f1_score, roc_auc_score, cohen_kappa_score\n",
    "\n",
    "def classification_metrics_multiclass(y_true, y_pred, model, fold):\n",
    "    '''\n",
    "    Generate multiclass classification analysis\n",
    "    '''\n",
    "    \n",
    "    # Confusion matrix for multiclass\n",
    "    cm = confusion_matrix(y_true, y_pred)\n",
    "    \n",
    "    # Per-class metrics\n",
    "    precision_per_class = precision_score(y_true, y_pred, average=None)\n",
    "    recall_per_class = recall_score(y_true, y_pred, average=None)\n",
    "    f1_score_per_class = f1_score(y_true, y_pred, average=None)\n",
    "    \n",
    "    # Overall metrics\n",
    "    accuracy = (cm.diagonal().sum()) / cm.sum()\n",
    "    precision_macro = precision_score(y_true, y_pred, average='macro')\n",
    "    recall_macro = recall_score(y_true, y_pred, average='macro')\n",
    "    f1_score_macro = f1_score(y_true, y_pred, average='macro')\n",
    "    \n",
    "    try:\n",
    "        auc_value = roc_auc_score(y_true, y_pred, multi_class='ovr')\n",
    "    except ValueError:\n",
    "        auc_value = None  # AUC calculation might fail if there's not enough variety in predictions\n",
    "    \n",
    "    kappa = cohen_kappa_score(y_true, y_pred)\n",
    "    \n",
    "    return {\n",
    "        \"model\": model, \n",
    "        \"fold\": fold,\n",
    "        \"confusion_matrix\": cm,\n",
    "        \"accuracy\": accuracy,\n",
    "        \"precision_per_class\": precision_per_class.tolist(), \n",
    "        \"recall_per_class\": recall_per_class.tolist(), \n",
    "        \"f1_score_per_class\": f1_score_per_class.tolist(),\n",
    "        \"precision_macro\": precision_macro,\n",
    "        \"recall_macro\": recall_macro,\n",
    "        \"f1_score_macro\": f1_score_macro,\n",
    "        \"auc\": auc_value, \n",
    "        \"kappa\": kappa\n",
    "    }"
   ]
  },
  {
   "cell_type": "code",
   "execution_count": 15,
   "id": "fd06f57e-8fb0-4ea4-8be5-ee406ee55492",
   "metadata": {},
   "outputs": [],
   "source": [
    "results = classification_metrics_multiclass(y_true, y_pred_classes, 'vgg16', '1')"
   ]
  },
  {
   "cell_type": "code",
   "execution_count": 16,
   "id": "5eb90570-797e-4e8b-a55d-ba0c1aecfbb6",
   "metadata": {},
   "outputs": [
    {
     "data": {
      "text/plain": [
       "{'model': 'vgg16',\n",
       " 'fold': '1',\n",
       " 'confusion_matrix': array([[72,  6,  6],\n",
       "        [ 9, 33,  1],\n",
       "        [ 6,  1, 22]], dtype=int64),\n",
       " 'accuracy': 0.8141025641025641,\n",
       " 'precision_per_class': [0.8275862068965517, 0.825, 0.7586206896551724],\n",
       " 'recall_per_class': [0.8571428571428571,\n",
       "  0.7674418604651163,\n",
       "  0.7586206896551724],\n",
       " 'f1_score_per_class': [0.8421052631578947,\n",
       "  0.7951807228915663,\n",
       "  0.7586206896551724],\n",
       " 'precision_macro': 0.8037356321839081,\n",
       " 'recall_macro': 0.7944018024210487,\n",
       " 'f1_score_macro': 0.7986355585682112,\n",
       " 'auc': None,\n",
       " 'kappa': 0.6872883113292321}"
      ]
     },
     "execution_count": 16,
     "metadata": {},
     "output_type": "execute_result"
    }
   ],
   "source": [
    "results"
   ]
  },
  {
   "cell_type": "code",
   "execution_count": null,
   "id": "aa4e8b16-b135-4963-afcd-67aefe83cdb8",
   "metadata": {},
   "outputs": [],
   "source": []
  }
 ],
 "metadata": {
  "kernelspec": {
   "display_name": "Python 3 (ipykernel)",
   "language": "python",
   "name": "python3"
  },
  "language_info": {
   "codemirror_mode": {
    "name": "ipython",
    "version": 3
   },
   "file_extension": ".py",
   "mimetype": "text/x-python",
   "name": "python",
   "nbconvert_exporter": "python",
   "pygments_lexer": "ipython3",
   "version": "3.10.13"
  }
 },
 "nbformat": 4,
 "nbformat_minor": 5
}
