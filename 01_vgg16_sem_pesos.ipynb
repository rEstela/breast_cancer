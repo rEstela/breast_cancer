{
 "cells": [
  {
   "cell_type": "code",
   "execution_count": 1,
   "id": "9f3e70ba-9911-4311-a9db-fb9dcb35c04f",
   "metadata": {},
   "outputs": [
    {
     "name": "stdout",
     "output_type": "stream",
     "text": [
      "WARNING:tensorflow:From C:\\Users\\estela.ribeiro\\AppData\\Local\\anaconda3\\envs\\estudos\\Lib\\site-packages\\keras\\src\\losses.py:2976: The name tf.losses.sparse_softmax_cross_entropy is deprecated. Please use tf.compat.v1.losses.sparse_softmax_cross_entropy instead.\n",
      "\n"
     ]
    }
   ],
   "source": [
    "import os\n",
    "import numpy as np\n",
    "\n",
    "import tensorflow as tf\n",
    "from tensorflow.keras.preprocessing.image import img_to_array, load_img\n",
    "from tensorflow.keras.utils import to_categorical\n",
    "from tensorflow.keras.applications.vgg16 import VGG16, preprocess_input\n",
    "from tensorflow.keras.models import Model, Sequential\n",
    "from tensorflow.keras.layers import Dense, Flatten, Dropout, Input, Lambda\n",
    "from tensorflow.keras.optimizers import Adam\n",
    "from tensorflow.keras import layers\n",
    "\n",
    "from sklearn.model_selection import train_test_split\n",
    "from sklearn.preprocessing import LabelEncoder\n",
    "\n",
    "from sklearn.metrics import confusion_matrix\n",
    "import seaborn as sns\n",
    "import matplotlib.pyplot as plt"
   ]
  },
  {
   "cell_type": "code",
   "execution_count": 2,
   "id": "efff3eeb-e0c3-4331-831c-a0cfada1d8c5",
   "metadata": {},
   "outputs": [],
   "source": [
    "# Diretório com suas imagens\n",
    "data_dir = 'C:/Users/estela.ribeiro/JupyterNotebooks/side_job_breat_cancer/dataset/images/'\n",
    "\n",
    "# Lista para armazenar imagens e rótulos\n",
    "images = []\n",
    "labels = []\n",
    "\n",
    "# Loop sobre os arquivos no diretório\n",
    "for filename in os.listdir(data_dir):\n",
    "    if filename.endswith('.png'):  # Supondo que suas imagens tenham extensão .jpg\n",
    "        img = load_img(os.path.join(data_dir, filename), target_size=(300, 300))\n",
    "        img_array = img_to_array(img)\n",
    "        images.append(img_array)\n",
    "        \n",
    "        # Extrair rótulo do nome do arquivo\n",
    "        label = filename.split(' ')[0]  # Pega o rótulo antes do espaço em branco\n",
    "        labels.append(label)"
   ]
  },
  {
   "cell_type": "code",
   "execution_count": 3,
   "id": "7611a309-0b31-42c7-bec7-4fe759d028da",
   "metadata": {},
   "outputs": [],
   "source": [
    "# Codificar rótulos em números\n",
    "label_encoder = LabelEncoder()\n",
    "labels = label_encoder.fit_transform(labels)\n",
    "\n",
    "# Converter para array numpy\n",
    "images = np.array(images)\n",
    "labels = to_categorical(labels)"
   ]
  },
  {
   "cell_type": "code",
   "execution_count": 7,
   "id": "5816a820-47d2-4c95-83b1-041d7a8f673d",
   "metadata": {},
   "outputs": [],
   "source": [
    "# Dividir os dados em conjuntos de treinamento e validação\n",
    "X_train, X_val, y_train, y_val = train_test_split(images, labels, test_size=0.2, shuffle=True, random_state=42)\n",
    "input_shape=(300,300,3)\n",
    "num_class=3\n",
    "\n",
    "# Carregar o modelo VGG-16 pré-treinado\n",
    "base_model = VGG16(weights='imagenet', include_top=False, input_shape=input_shape)\n",
    "\n",
    "# Congelar as camadas do modelo base\n",
    "for layer in base_model.layers:\n",
    "    layer.trainable = False\n",
    "\n",
    "inputs = Input(shape=input_shape)\n",
    "x = Lambda(preprocess_input)(inputs)  # Aplicando a função preprocess_input como uma camada Lambda\n",
    "x = base_model(x, training=False)  # Modo de inferência para base_model\n",
    "# Adicionar camadas personalizadas\n",
    "x = Flatten()(x)\n",
    "x = Dense(256, activation='relu')(x)\n",
    "x = Dropout(0.5)(x)\n",
    "predictions = Dense(num_class, activation='softmax')(x)\n",
    "model = Model(inputs, predictions)\n",
    "\n",
    "# Compilar o modelo\n",
    "model.compile(optimizer=Adam(), loss='categorical_crossentropy', metrics=['accuracy'])"
   ]
  },
  {
   "cell_type": "code",
   "execution_count": 8,
   "id": "3985d2fc-9c6d-466c-9c7a-9ac20cc59546",
   "metadata": {},
   "outputs": [
    {
     "name": "stdout",
     "output_type": "stream",
     "text": [
      "Model: \"model\"\n",
      "_________________________________________________________________\n",
      " Layer (type)                Output Shape              Param #   \n",
      "=================================================================\n",
      " input_4 (InputLayer)        [(None, 300, 300, 3)]     0         \n",
      "                                                                 \n",
      " lambda_1 (Lambda)           (None, 300, 300, 3)       0         \n",
      "                                                                 \n",
      " vgg16 (Functional)          (None, 9, 9, 512)         14714688  \n",
      "                                                                 \n",
      " flatten_1 (Flatten)         (None, 41472)             0         \n",
      "                                                                 \n",
      " dense_1 (Dense)             (None, 256)               10617088  \n",
      "                                                                 \n",
      " dropout_1 (Dropout)         (None, 256)               0         \n",
      "                                                                 \n",
      " dense_2 (Dense)             (None, 3)                 771       \n",
      "                                                                 \n",
      "=================================================================\n",
      "Total params: 25332547 (96.64 MB)\n",
      "Trainable params: 10617859 (40.50 MB)\n",
      "Non-trainable params: 14714688 (56.13 MB)\n",
      "_________________________________________________________________\n"
     ]
    }
   ],
   "source": [
    "model.summary()"
   ]
  },
  {
   "cell_type": "code",
   "execution_count": 9,
   "id": "21ea97d7-f3b4-43dc-866d-2e220ad88e04",
   "metadata": {},
   "outputs": [
    {
     "name": "stdout",
     "output_type": "stream",
     "text": [
      "Epoch 1/5\n",
      "WARNING:tensorflow:From C:\\Users\\estela.ribeiro\\AppData\\Local\\anaconda3\\envs\\estudos\\Lib\\site-packages\\keras\\src\\utils\\tf_utils.py:492: The name tf.ragged.RaggedTensorValue is deprecated. Please use tf.compat.v1.ragged.RaggedTensorValue instead.\n",
      "\n",
      "WARNING:tensorflow:From C:\\Users\\estela.ribeiro\\AppData\\Local\\anaconda3\\envs\\estudos\\Lib\\site-packages\\keras\\src\\engine\\base_layer_utils.py:384: The name tf.executing_eagerly_outside_functions is deprecated. Please use tf.compat.v1.executing_eagerly_outside_functions instead.\n",
      "\n",
      "20/20 [==============================] - 636s 32s/step - loss: 11.6362 - accuracy: 0.5865 - val_loss: 4.3885 - val_accuracy: 0.7628\n",
      "Epoch 2/5\n",
      "20/20 [==============================] - 612s 31s/step - loss: 1.4570 - accuracy: 0.8462 - val_loss: 1.6431 - val_accuracy: 0.7885\n",
      "Epoch 3/5\n",
      "20/20 [==============================] - 612s 31s/step - loss: 0.3339 - accuracy: 0.8974 - val_loss: 1.2332 - val_accuracy: 0.8333\n",
      "Epoch 4/5\n",
      "20/20 [==============================] - 604s 31s/step - loss: 0.3119 - accuracy: 0.9375 - val_loss: 0.9835 - val_accuracy: 0.8718\n",
      "Epoch 5/5\n",
      "20/20 [==============================] - 647s 33s/step - loss: 0.2039 - accuracy: 0.9295 - val_loss: 1.1668 - val_accuracy: 0.8333\n"
     ]
    },
    {
     "data": {
      "text/plain": [
       "<keras.src.callbacks.History at 0x1fc00c9edd0>"
      ]
     },
     "execution_count": 9,
     "metadata": {},
     "output_type": "execute_result"
    }
   ],
   "source": [
    "# Treinar o modelo\n",
    "model.fit(X_train, y_train, epochs=5, validation_data=(X_val, y_val))"
   ]
  },
  {
   "cell_type": "code",
   "execution_count": 10,
   "id": "3019335b-b7dd-4c98-9ff7-bbc5e56d4209",
   "metadata": {},
   "outputs": [
    {
     "name": "stdout",
     "output_type": "stream",
     "text": [
      "5/5 [==============================] - 131s 26s/step - loss: 1.1668 - accuracy: 0.8333\n",
      "Loss: 1.1668205261230469\n",
      "Accuracy: 0.8333333134651184\n"
     ]
    }
   ],
   "source": [
    "# Avaliar o desempenho do modelo\n",
    "loss, accuracy = model.evaluate(X_val, y_val)\n",
    "print(\"Loss:\", loss)\n",
    "print(\"Accuracy:\", accuracy)"
   ]
  },
  {
   "cell_type": "code",
   "execution_count": 11,
   "id": "3aad88df-841c-4098-92fd-8386707f2cc1",
   "metadata": {},
   "outputs": [
    {
     "name": "stdout",
     "output_type": "stream",
     "text": [
      "5/5 [==============================] - 145s 29s/step\n"
     ]
    }
   ],
   "source": [
    "# Fazer previsões no conjunto de validação\n",
    "y_pred = model.predict(X_val)\n",
    "y_pred_classes = np.argmax(y_pred, axis=1)\n",
    "y_true = np.argmax(y_val, axis=1)"
   ]
  },
  {
   "cell_type": "code",
   "execution_count": 12,
   "id": "19be25a9-6b0f-4b2b-ab14-a6c9ca2b9f4b",
   "metadata": {},
   "outputs": [
    {
     "data": {
      "image/png": "[encoded data removed]",
      "text/plain": [
       "<Figure size 800x600 with 2 Axes>"
      ]
     },
     "metadata": {},
     "output_type": "display_data"
    }
   ],
   "source": [
    "# Calcular a matriz de confusão\n",
    "conf_matrix = confusion_matrix(y_true, y_pred_classes)\n",
    "\n",
    "# Plotar a matriz de confusão\n",
    "plt.figure(figsize=(8, 6))\n",
    "sns.heatmap(conf_matrix, annot=True, fmt='d', cmap='Blues', \n",
    "            xticklabels=label_encoder.classes_, \n",
    "            yticklabels=label_encoder.classes_)\n",
    "plt.xlabel('Predicted labels')\n",
    "plt.ylabel('True labels')\n",
    "plt.title('Confusion Matrix')\n",
    "plt.show()"
   ]
  },
  {
   "cell_type": "code",
   "execution_count": null,
   "id": "1f837edc-8891-4ed4-97d1-6c03f6058536",
   "metadata": {},
   "outputs": [],
   "source": []
  },
  {
   "cell_type": "code",
   "execution_count": null,
   "id": "2f459e2f-9754-490a-9d9c-4c99c7b58307",
   "metadata": {},
   "outputs": [],
   "source": []
  }
 ],
 "metadata": {
  "kernelspec": {
   "display_name": "Python 3 (ipykernel)",
   "language": "python",
   "name": "python3"
  },
  "language_info": {
   "codemirror_mode": {
    "name": "ipython",
    "version": 3
   },
   "file_extension": ".py",
   "mimetype": "text/x-python",
   "name": "python",
   "nbconvert_exporter": "python",
   "pygments_lexer": "ipython3",
   "version": "3.11.7"
  }
 },
 "nbformat": 4,
 "nbformat_minor": 5
}
