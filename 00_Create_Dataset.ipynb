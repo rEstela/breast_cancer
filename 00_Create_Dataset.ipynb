{
 "cells": [
  {
   "cell_type": "code",
   "execution_count": 1,
   "id": "8e3da166-a093-4e3b-b622-38e715fa1cb7",
   "metadata": {},
   "outputs": [
    {
     "name": "stderr",
     "output_type": "stream",
     "text": [
      "C:\\Users\\estel\\AppData\\Local\\Temp\\ipykernel_9004\\2092889490.py:3: DeprecationWarning: \n",
      "Pyarrow will become a required dependency of pandas in the next major release of pandas (pandas 3.0),\n",
      "(to allow more performant data types, such as the Arrow string type, and better interoperability with other libraries)\n",
      "but was not found to be installed on your system.\n",
      "If this would cause problems for you,\n",
      "please provide us feedback at https://github.com/pandas-dev/pandas/issues/54466\n",
      "        \n",
      "  import pandas as pd\n"
     ]
    }
   ],
   "source": [
    "import os\n",
    "import cv2\n",
    "import pandas as pd"
   ]
  },
  {
   "cell_type": "code",
   "execution_count": 2,
   "id": "87c9cd24-93d8-442a-b742-b6d928117058",
   "metadata": {},
   "outputs": [],
   "source": [
    "data_dir = 'C:/Users/estel/Documents/Python_Codes/breast_cancer/Dataset_BUSI_with_GT/'\n",
    "save_dir_img = 'C:/Users/estel/Documents/Python_Codes/breast_cancer/preprocessed/images/'\n",
    "save_dir_mask = 'C:/Users/estel/Documents/Python_Codes/breast_cancer/preprocessed/masks/'\n",
    "save_csv_path = 'C:/Users/estel/Documents/Python_Codes/breast_cancer/preprocessed/informacoes.csv'\n",
    "labels = ['benign', 'malignant', 'normal']\n",
    "resize_dim = (300, 300)  # Dimensão para redimensionar as imagens e máscaras"
   ]
  },
  {
   "cell_type": "code",
   "execution_count": 3,
   "id": "12fc3a7b-c247-432b-b0c4-69a283ba3b0d",
   "metadata": {},
   "outputs": [],
   "source": [
    "label_names = []\n",
    "label_codes = []\n",
    "names = []\n",
    "masks_combined = []\n",
    "\n",
    "for i, label in enumerate(labels):\n",
    "    # Pegar lista dos arquivos\n",
    "    label_dir = os.path.join(data_dir, label)\n",
    "       \n",
    "    # Pegar a lista dos arquivos das imagens\n",
    "    image_files = [file for file in os.listdir(label_dir) if file.endswith('.png')]\n",
    "   \n",
    "    # Ordenar a lista dos arquivos das imagens\n",
    "    image_files = sorted(image_files)\n",
    "    \n",
    "    # Dicionário para armazenar máscaras temporariamente\n",
    "    temp_masks = {}\n",
    "    \n",
    "    # Pegar o nome do arquivo separado para imagem e mascara\n",
    "    for file in image_files:\n",
    "        if '_mask' in file:\n",
    "            base_name = file.split('_mask')[0]\n",
    "            if base_name not in temp_masks:\n",
    "                temp_masks[base_name] = []\n",
    "            temp_masks[base_name].append(file)\n",
    "        else:\n",
    "            # Salvar as imagens em um novo diretório separado apenas para as imagens\n",
    "            img = cv2.imread(os.path.join(label_dir, file))\n",
    "            img_resized = cv2.resize(img, resize_dim)\n",
    "            cv2.imwrite(os.path.join(save_dir_img, file), img_resized)\n",
    "            \n",
    "            names.append(file)\n",
    "            label_names.append(label)\n",
    "            label_codes.append(i)\n",
    "    \n",
    "    # Processar máscaras\n",
    "    for base_name, mask_files in temp_masks.items():\n",
    "        if len(mask_files) > 1:\n",
    "            # Combinar máscaras se houver mais de uma\n",
    "            combined_mask = None\n",
    "            for mask_file in mask_files:\n",
    "                mask_path = os.path.join(label_dir, mask_file)\n",
    "                mask = cv2.imread(mask_path, cv2.IMREAD_GRAYSCALE)\n",
    "                if combined_mask is None:\n",
    "                    combined_mask = mask\n",
    "                else:\n",
    "                    combined_mask = cv2.add(combined_mask, mask)\n",
    "            combined_mask_resized = cv2.resize(combined_mask, resize_dim)\n",
    "            combined_mask_path = os.path.join(save_dir_mask, f'{base_name}_combined_mask.png')\n",
    "            cv2.imwrite(combined_mask_path, combined_mask_resized)\n",
    "            masks_combined.append(f'{base_name}_combined_mask.png')\n",
    "        else:\n",
    "            # Copiar máscara única para o diretório de máscaras\n",
    "            mask_file = mask_files[0]\n",
    "            mask_path = os.path.join(label_dir, mask_file)\n",
    "            mask = cv2.imread(mask_path, cv2.IMREAD_GRAYSCALE)\n",
    "            mask_resized = cv2.resize(mask, resize_dim)\n",
    "            combined_mask_path = os.path.join(save_dir_mask, mask_file)\n",
    "            cv2.imwrite(combined_mask_path, mask_resized)\n",
    "            masks_combined.append(mask_file)"
   ]
  },
  {
   "cell_type": "code",
   "execution_count": 4,
   "id": "3d44299d-1269-41b2-b997-8b19c4bcb03c",
   "metadata": {},
   "outputs": [],
   "source": [
    "# Criar um dataframe com as informações\n",
    "df = pd.DataFrame({\n",
    "    'label_names': label_names,\n",
    "    'label_codes': label_codes,\n",
    "    'names': names,\n",
    "    'masks_combined': masks_combined\n",
    "})\n",
    "\n",
    "# Salvar o dataframe em um arquivo CSV\n",
    "df.to_csv(save_csv_path, index=False)"
   ]
  }
 ],
 "metadata": {
  "kernelspec": {
   "display_name": "Python 3 (ipykernel)",
   "language": "python",
   "name": "python3"
  },
  "language_info": {
   "codemirror_mode": {
    "name": "ipython",
    "version": 3
   },
   "file_extension": ".py",
   "mimetype": "text/x-python",
   "name": "python",
   "nbconvert_exporter": "python",
   "pygments_lexer": "ipython3",
   "version": "3.10.13"
  }
 },
 "nbformat": 4,
 "nbformat_minor": 5
}
