{
 "cells": [
  {
   "cell_type": "code",
   "execution_count": 1,
   "id": "9f3e70ba-9911-4311-a9db-fb9dcb35c04f",
   "metadata": {},
   "outputs": [
    {
     "name": "stdout",
     "output_type": "stream",
     "text": [
      "WARNING:tensorflow:From C:\\Users\\estela.ribeiro\\AppData\\Local\\anaconda3\\envs\\estudos\\Lib\\site-packages\\keras\\src\\losses.py:2976: The name tf.losses.sparse_softmax_cross_entropy is deprecated. Please use tf.compat.v1.losses.sparse_softmax_cross_entropy instead.\n",
      "\n"
     ]
    }
   ],
   "source": [
    "import os\n",
    "import numpy as np\n",
    "\n",
    "import tensorflow as tf\n",
    "from tensorflow.keras.preprocessing.image import img_to_array, load_img\n",
    "from tensorflow.keras.utils import to_categorical\n",
    "from tensorflow.keras.applications.vgg16 import VGG16, preprocess_input\n",
    "from tensorflow.keras.models import Model, Sequential\n",
    "from tensorflow.keras.layers import Dense, Flatten, Dropout, Input, Lambda\n",
    "from tensorflow.keras.optimizers import Adam\n",
    "from tensorflow.keras import layers\n",
    "\n",
    "from sklearn.model_selection import train_test_split\n",
    "from sklearn.preprocessing import LabelEncoder\n",
    "\n",
    "from sklearn.metrics import confusion_matrix\n",
    "import seaborn as sns\n",
    "import matplotlib.pyplot as plt\n",
    "\n",
    "from sklearn.model_selection import KFold\n",
    "from sklearn.metrics import confusion_matrix, precision_score, recall_score, f1_score, roc_auc_score, cohen_kappa_score"
   ]
  },
  {
   "cell_type": "code",
   "execution_count": 2,
   "id": "bfb38395-57d5-4d9b-a05b-b4cf12f78a45",
   "metadata": {},
   "outputs": [],
   "source": [
    "def load_data(data_dir):\n",
    "    '''\n",
    "    Carrega os arquivos da pasta, separando as imagens e os labels correspondentes já codificados \n",
    "    '''\n",
    "    # Lista para armazenar imagens e rótulos\n",
    "    images = []\n",
    "    labels = []\n",
    "    \n",
    "    # Loop sobre os arquivos no diretório\n",
    "    for filename in os.listdir(data_dir):\n",
    "        if filename.endswith('.png'):  # Imagens tem extensão .png\n",
    "            img = load_img(os.path.join(data_dir, filename), target_size=(300, 300))\n",
    "            img_array = img_to_array(img)\n",
    "            images.append(img_array)\n",
    "            \n",
    "            # Extrair rótulo do nome do arquivo\n",
    "            label = filename.split(' ')[0]  # Pega o rótulo antes do espaço em branco\n",
    "            labels.append(label)\n",
    "\n",
    "    # Codificar rótulos em números\n",
    "    label_encoder = LabelEncoder()\n",
    "    labels = label_encoder.fit_transform(labels)\n",
    "\n",
    "    # Converter para array numpy\n",
    "    images = np.array(images)\n",
    "    labels = to_categorical(labels)\n",
    "\n",
    "    return images, labels, label_encoder"
   ]
  },
  {
   "cell_type": "code",
   "execution_count": 3,
   "id": "e2c0b1dd-47ed-4752-9f1a-90ef739fb310",
   "metadata": {},
   "outputs": [],
   "source": [
    "def compute_class_weights(y_train):\n",
    "    # Calcular pesos das classes baseados na distribuição dos dados\n",
    "    class_weights = {}\n",
    "    total_samples = len(y_train)\n",
    "    num_classes = len(np.unique(np.argmax(y_train, axis=1)))\n",
    "    for i in range(num_classes):\n",
    "        class_count = np.sum(np.argmax(y_train, axis=1) == i)\n",
    "        class_weights[i] = total_samples / (num_classes * class_count)\n",
    "\n",
    "    return class_weights"
   ]
  },
  {
   "cell_type": "code",
   "execution_count": 4,
   "id": "1c25885b-fa27-4a6b-a278-afe1e2177b5e",
   "metadata": {},
   "outputs": [],
   "source": [
    "def get_model(input_shape=(300,300,3), num_class=3):\n",
    "    # Carregar o modelo VGG-16 pré-treinado\n",
    "    base_model = VGG16(weights='imagenet', include_top=False, input_shape=input_shape)\n",
    "    \n",
    "    # Congelar as camadas do modelo base\n",
    "    for layer in base_model.layers:\n",
    "        layer.trainable = False\n",
    "\n",
    "    inputs = Input(shape=input_shape)\n",
    "    x = Lambda(preprocess_input)(inputs)  # Aplicando a função preprocess_input como uma camada Lambda\n",
    "    x = base_model(x, training=False)  # Modo de inferência para base_model\n",
    "    # Adicionar camadas personalizadas\n",
    "    x = Flatten()(x)\n",
    "    x = Dense(256, activation='relu')(x)\n",
    "    x = Dropout(0.5)(x)\n",
    "    predictions = Dense(num_class, activation='softmax')(x)\n",
    "    model = Model(inputs, predictions)\n",
    "    \n",
    "    # Compilar o modelo\n",
    "    model.compile(optimizer=Adam(), loss='categorical_crossentropy', metrics=['accuracy'])\n",
    "\n",
    "    # Apresenta um sumário do modelo\n",
    "    #model.summary()\n",
    "\n",
    "    return model"
   ]
  },
  {
   "cell_type": "code",
   "execution_count": 5,
   "id": "6dbc9ff3-842d-475d-80fd-d91a623b5e24",
   "metadata": {},
   "outputs": [],
   "source": [
    "def classification_metrics_multiclass(y_true, y_pred, model, fold):\n",
    "    '''\n",
    "    Generate multiclass classification analysis\n",
    "    '''\n",
    "    \n",
    "    # Confusion matrix for multiclass\n",
    "    cm = confusion_matrix(y_true, y_pred)\n",
    "    \n",
    "    # Per-class metrics\n",
    "    precision_per_class = precision_score(y_true, y_pred, average=None)\n",
    "    recall_per_class = recall_score(y_true, y_pred, average=None)\n",
    "    f1_score_per_class = f1_score(y_true, y_pred, average=None)\n",
    "    \n",
    "    # Overall metrics\n",
    "    accuracy = (cm.diagonal().sum()) / cm.sum()\n",
    "    precision_macro = precision_score(y_true, y_pred, average='macro')\n",
    "    recall_macro = recall_score(y_true, y_pred, average='macro')\n",
    "    f1_score_macro = f1_score(y_true, y_pred, average='macro')\n",
    "    \n",
    "    try:\n",
    "        auc_value = roc_auc_score(y_true, y_pred, multi_class='ovr')\n",
    "    except ValueError:\n",
    "        auc_value = None  # AUC calculation might fail if there's not enough variety in predictions\n",
    "    \n",
    "    kappa = cohen_kappa_score(y_true, y_pred)\n",
    "    \n",
    "    return {\n",
    "        \"model\": model, \n",
    "        \"fold\": fold,\n",
    "        \"confusion_matrix\": cm,\n",
    "        \"accuracy\": accuracy,\n",
    "        \"precision_per_class\": precision_per_class.tolist(), \n",
    "        \"recall_per_class\": recall_per_class.tolist(), \n",
    "        \"f1_score_per_class\": f1_score_per_class.tolist(),\n",
    "        \"precision_macro\": precision_macro,\n",
    "        \"recall_macro\": recall_macro,\n",
    "        \"f1_score_macro\": f1_score_macro,\n",
    "        \"auc\": auc_value, \n",
    "        \"kappa\": kappa\n",
    "    }"
   ]
  },
  {
   "cell_type": "code",
   "execution_count": 6,
   "id": "e9309585-014d-42d6-8f5b-f44ae558653e",
   "metadata": {},
   "outputs": [],
   "source": [
    "def plot_cm(y_true, y_pred_classes, label_encoder):\n",
    "    # Calcular a matriz de confusão\n",
    "    conf_matrix = confusion_matrix(y_true, y_pred_classes)\n",
    "    \n",
    "    # Plotar a matriz de confusão\n",
    "    plt.figure(figsize=(8, 6))\n",
    "    sns.heatmap(conf_matrix, annot=True, fmt='d', cmap='Blues', \n",
    "                xticklabels=label_encoder.classes_, \n",
    "                yticklabels=label_encoder.classes_)\n",
    "    plt.xlabel('Predicted labels')\n",
    "    plt.ylabel('True labels')\n",
    "    plt.title('Confusion Matrix')\n",
    "    plt.show()"
   ]
  },
  {
   "cell_type": "code",
   "execution_count": 7,
   "id": "efff3eeb-e0c3-4331-831c-a0cfada1d8c5",
   "metadata": {},
   "outputs": [],
   "source": [
    "# Diretório com suas imagens\n",
    "data_dir = 'C:/Users/estela.ribeiro/JupyterNotebooks/side_job_breat_cancer/dataset/images/'\n",
    "\n",
    "# Carregar os dados\n",
    "images, labels, label_encoder = load_data(data_dir)\n",
    "\n",
    "# Parametros\n",
    "input_shape = (300, 300, 3)\n",
    "num_classes = 3  # Número de classes: benign, malign, normal"
   ]
  },
  {
   "cell_type": "code",
   "execution_count": 8,
   "id": "5129f572-1ece-48e4-bc13-bbaeec1ca355",
   "metadata": {},
   "outputs": [],
   "source": [
    "# Definir a validação cruzada k-fold\n",
    "kf = KFold(n_splits=5, shuffle=True, random_state=42)"
   ]
  },
  {
   "cell_type": "code",
   "execution_count": 9,
   "id": "ef3480a2-1950-40a3-ad26-f59235e53adf",
   "metadata": {},
   "outputs": [
    {
     "name": "stdout",
     "output_type": "stream",
     "text": [
      "---------\n",
      "Starting Fold: 1 ...\n",
      "WARNING:tensorflow:From C:\\Users\\estela.ribeiro\\AppData\\Local\\anaconda3\\envs\\estudos\\Lib\\site-packages\\keras\\src\\backend.py:1398: The name tf.executing_eagerly_outside_functions is deprecated. Please use tf.compat.v1.executing_eagerly_outside_functions instead.\n",
      "\n",
      "WARNING:tensorflow:From C:\\Users\\estela.ribeiro\\AppData\\Local\\anaconda3\\envs\\estudos\\Lib\\site-packages\\keras\\src\\layers\\pooling\\max_pooling2d.py:161: The name tf.nn.max_pool is deprecated. Please use tf.nn.max_pool2d instead.\n",
      "\n",
      "Epoch 1/5\n",
      "WARNING:tensorflow:From C:\\Users\\estela.ribeiro\\AppData\\Local\\anaconda3\\envs\\estudos\\Lib\\site-packages\\keras\\src\\utils\\tf_utils.py:492: The name tf.ragged.RaggedTensorValue is deprecated. Please use tf.compat.v1.ragged.RaggedTensorValue instead.\n",
      "\n",
      "WARNING:tensorflow:From C:\\Users\\estela.ribeiro\\AppData\\Local\\anaconda3\\envs\\estudos\\Lib\\site-packages\\keras\\src\\engine\\base_layer_utils.py:384: The name tf.executing_eagerly_outside_functions is deprecated. Please use tf.compat.v1.executing_eagerly_outside_functions instead.\n",
      "\n",
      "20/20 [==============================] - 615s 31s/step - loss: 11.9819 - accuracy: 0.5577 - val_loss: 2.8269 - val_accuracy: 0.6731\n",
      "Epoch 2/5\n",
      "20/20 [==============================] - 608s 31s/step - loss: 1.1468 - accuracy: 0.7933 - val_loss: 1.0275 - val_accuracy: 0.7949\n",
      "Epoch 3/5\n",
      "20/20 [==============================] - 590s 30s/step - loss: 0.3544 - accuracy: 0.8702 - val_loss: 0.8784 - val_accuracy: 0.7564\n",
      "Epoch 4/5\n",
      "20/20 [==============================] - 585s 30s/step - loss: 0.2416 - accuracy: 0.9295 - val_loss: 0.8973 - val_accuracy: 0.7885\n",
      "Epoch 5/5\n",
      "20/20 [==============================] - 607s 31s/step - loss: 0.2078 - accuracy: 0.9151 - val_loss: 1.1562 - val_accuracy: 0.8013\n",
      "5/5 [==============================] - 128s 26s/step\n"
     ]
    },
    {
     "data": {
      "image/png": "[encoded data removed]",
      "text/plain": [
       "<Figure size 800x600 with 2 Axes>"
      ]
     },
     "metadata": {},
     "output_type": "display_data"
    },
    {
     "name": "stdout",
     "output_type": "stream",
     "text": [
      "{'model': 'vgg16', 'fold': 1, 'confusion_matrix': array([[69,  7,  8],\n",
      "       [11, 29,  3],\n",
      "       [ 2,  0, 27]], dtype=int64), 'accuracy': 0.8012820512820513, 'precision_per_class': [0.8414634146341463, 0.8055555555555556, 0.7105263157894737], 'recall_per_class': [0.8214285714285714, 0.6744186046511628, 0.9310344827586207], 'f1_score_per_class': [0.8313253012048193, 0.7341772151898734, 0.8059701492537313], 'precision_macro': 0.7858484286597252, 'recall_macro': 0.8089605529461182, 'f1_score_macro': 0.7904908885494747, 'auc': None, 'kappa': 0.673199080956886}\n",
      "---------\n",
      "Starting Fold: 2 ...\n",
      "Epoch 1/5\n",
      "20/20 [==============================] - 634s 32s/step - loss: 11.0380 - accuracy: 0.5433 - val_loss: 2.3161 - val_accuracy: 0.7885\n",
      "Epoch 2/5\n",
      "20/20 [==============================] - 591s 30s/step - loss: 1.1875 - accuracy: 0.8205 - val_loss: 0.9091 - val_accuracy: 0.7821\n",
      "Epoch 3/5\n",
      "20/20 [==============================] - 596s 30s/step - loss: 0.3689 - accuracy: 0.9038 - val_loss: 0.7766 - val_accuracy: 0.8013\n",
      "Epoch 4/5\n",
      "20/20 [==============================] - 597s 30s/step - loss: 0.1744 - accuracy: 0.9231 - val_loss: 0.8859 - val_accuracy: 0.8397\n",
      "Epoch 5/5\n",
      "20/20 [==============================] - 595s 30s/step - loss: 0.2708 - accuracy: 0.9263 - val_loss: 0.8768 - val_accuracy: 0.8013\n",
      "5/5 [==============================] - 120s 24s/step\n"
     ]
    },
    {
     "data": {
      "image/png": "[encoded data removed]",
      "text/plain": [
       "<Figure size 800x600 with 2 Axes>"
      ]
     },
     "metadata": {},
     "output_type": "display_data"
    },
    {
     "name": "stdout",
     "output_type": "stream",
     "text": [
      "{'model': 'vgg16', 'fold': 2, 'confusion_matrix': array([[76, 10, 10],\n",
      "       [ 8, 32,  2],\n",
      "       [ 1,  0, 17]], dtype=int64), 'accuracy': 0.8012820512820513, 'precision_per_class': [0.8941176470588236, 0.7619047619047619, 0.5862068965517241], 'recall_per_class': [0.7916666666666666, 0.7619047619047619, 0.9444444444444444], 'f1_score_per_class': [0.8397790055248618, 0.7619047619047619, 0.723404255319149], 'precision_macro': 0.7474097685051032, 'recall_macro': 0.8326719576719576, 'f1_score_macro': 0.7750293409162575, 'auc': None, 'kappa': 0.6518358531317494}\n",
      "---------\n",
      "Starting Fold: 3 ...\n",
      "Epoch 1/5\n",
      "20/20 [==============================] - 595s 30s/step - loss: 15.8333 - accuracy: 0.5369 - val_loss: 2.7436 - val_accuracy: 0.7308\n",
      "Epoch 2/5\n",
      "15/20 [=====================>........] - ETA: 2:01 - loss: 2.3208 - accuracy: 0.7812Unexpected exception formatting exception. Falling back to standard exception\n"
     ]
    },
    {
     "name": "stderr",
     "output_type": "stream",
     "text": [
      "Traceback (most recent call last):\n",
      "  File \"C:\\Users\\estela.ribeiro\\AppData\\Local\\anaconda3\\envs\\estudos\\Lib\\site-packages\\IPython\\core\\interactiveshell.py\", line 3553, in run_code\n",
      "    exec(code_obj, self.user_global_ns, self.user_ns)\n",
      "  File \"C:\\Users\\estela.ribeiro\\AppData\\Local\\Temp\\ipykernel_7276\\2624971896.py\", line 17, in <module>\n",
      "    model.fit(X_train, y_train, epochs=5, validation_data=(X_val, y_val), class_weight=class_weights)\n",
      "  File \"C:\\Users\\estela.ribeiro\\AppData\\Local\\anaconda3\\envs\\estudos\\Lib\\site-packages\\keras\\src\\utils\\traceback_utils.py\", line 70, in error_handler\n",
      "    raise e.with_traceback(filtered_tb) from None\n",
      "  File \"C:\\Users\\estela.ribeiro\\AppData\\Local\\anaconda3\\envs\\estudos\\Lib\\site-packages\\tensorflow\\python\\eager\\context.py\", line 1415, in get_graph_debug_info\n",
      "    pywrap_tfe.TFE_ContextGetGraphDebugInfo(self._handle, name, buffer_)\n",
      "MemoryError: bad allocation\n",
      "\n",
      "During handling of the above exception, another exception occurred:\n",
      "\n",
      "Traceback (most recent call last):\n",
      "  File \"C:\\Users\\estela.ribeiro\\AppData\\Local\\anaconda3\\envs\\estudos\\Lib\\site-packages\\IPython\\core\\interactiveshell.py\", line 2144, in showtraceback\n",
      "    stb = self.InteractiveTB.structured_traceback(\n",
      "          ^^^^^^^^^^^^^^^^^^^^^^^^^^^^^^^^^^^^^^^^\n",
      "  File \"C:\\Users\\estela.ribeiro\\AppData\\Local\\anaconda3\\envs\\estudos\\Lib\\site-packages\\IPython\\core\\ultratb.py\", line 1435, in structured_traceback\n",
      "    return FormattedTB.structured_traceback(\n",
      "           ^^^^^^^^^^^^^^^^^^^^^^^^^^^^^^^^^\n",
      "  File \"C:\\Users\\estela.ribeiro\\AppData\\Local\\anaconda3\\envs\\estudos\\Lib\\site-packages\\IPython\\core\\ultratb.py\", line 1326, in structured_traceback\n",
      "    return VerboseTB.structured_traceback(\n",
      "           ^^^^^^^^^^^^^^^^^^^^^^^^^^^^^^^\n",
      "  File \"C:\\Users\\estela.ribeiro\\AppData\\Local\\anaconda3\\envs\\estudos\\Lib\\site-packages\\IPython\\core\\ultratb.py\", line 1173, in structured_traceback\n",
      "    formatted_exception = self.format_exception_as_a_whole(etype, evalue, etb, number_of_lines_of_context,\n",
      "                          ^^^^^^^^^^^^^^^^^^^^^^^^^^^^^^^^^^^^^^^^^^^^^^^^^^^^^^^^^^^^^^^^^^^^^^^^^^^^^^^^\n",
      "  File \"C:\\Users\\estela.ribeiro\\AppData\\Local\\anaconda3\\envs\\estudos\\Lib\\site-packages\\IPython\\core\\ultratb.py\", line 1063, in format_exception_as_a_whole\n",
      "    self.get_records(etb, number_of_lines_of_context, tb_offset) if etb else []\n",
      "    ^^^^^^^^^^^^^^^^^^^^^^^^^^^^^^^^^^^^^^^^^^^^^^^^^^^^^^^^^^^^\n",
      "  File \"C:\\Users\\estela.ribeiro\\AppData\\Local\\anaconda3\\envs\\estudos\\Lib\\site-packages\\IPython\\core\\ultratb.py\", line 1131, in get_records\n",
      "    mod = inspect.getmodule(cf.tb_frame)\n",
      "          ^^^^^^^^^^^^^^^^^^^^^^^^^^^^^^\n",
      "  File \"C:\\Users\\estela.ribeiro\\AppData\\Local\\anaconda3\\envs\\estudos\\Lib\\inspect.py\", line 984, in getmodule\n",
      "    file = getabsfile(object, _filename)\n",
      "           ^^^^^^^^^^^^^^^^^^^^^^^^^^^^^\n",
      "  File \"C:\\Users\\estela.ribeiro\\AppData\\Local\\anaconda3\\envs\\estudos\\Lib\\inspect.py\", line 967, in getabsfile\n",
      "    _filename = getsourcefile(object) or getfile(object)\n",
      "                ^^^^^^^^^^^^^^^^^^^^^\n",
      "  File \"C:\\Users\\estela.ribeiro\\AppData\\Local\\anaconda3\\envs\\estudos\\Lib\\inspect.py\", line 952, in getsourcefile\n",
      "    module = getmodule(object, filename)\n",
      "             ^^^^^^^^^^^^^^^^^^^^^^^^^^^\n",
      "  File \"C:\\Users\\estela.ribeiro\\AppData\\Local\\anaconda3\\envs\\estudos\\Lib\\inspect.py\", line 991, in getmodule\n",
      "    for modname, module in sys.modules.copy().items():\n",
      "                           ^^^^^^^^^^^^^^^^^^\n",
      "MemoryError\n"
     ]
    }
   ],
   "source": [
    "# Loop para validação cruzada k-fold\n",
    "i = 1\n",
    "for train_index, val_index in kf.split(images):\n",
    "    \n",
    "    print(f'---------\\nStarting Fold: {i} ...')\n",
    "    \n",
    "    X_train, X_val = images[train_index], images[val_index]\n",
    "    y_train, y_val = labels[train_index], labels[val_index]\n",
    "\n",
    "    # Calcular pesos das classes\n",
    "    class_weights = compute_class_weights(y_train)\n",
    "\n",
    "    # Criar o modelo\n",
    "    model = get_model(input_shape, num_classes)\n",
    "\n",
    "    # Treinar o modelo com pesos de classe\n",
    "    model.fit(X_train, y_train, epochs=5, validation_data=(X_val, y_val), class_weight=class_weights)\n",
    "\n",
    "    # Fazer previsões no conjunto de validação\n",
    "    y_pred = model.predict(X_val)\n",
    "    y_pred_classes = np.argmax(y_pred, axis=1)\n",
    "    y_true = np.argmax(y_val, axis=1)\n",
    "    \n",
    "    # Gerar os resultados\n",
    "    plot_cm(y_true, y_pred_classes, label_encoder)\n",
    "    results = classification_metrics_multiclass(y_true, y_pred_classes, 'vgg16', i)\n",
    "    print(results)\n",
    "    i += 1\n",
    "    \n",
    "    # Garantir que zerou o modelo para o proximo loop do k-fold\n",
    "    del model"
   ]
  },
  {
   "cell_type": "code",
   "execution_count": null,
   "id": "c1434e91-84ba-4f1d-941d-a8aa244a51d1",
   "metadata": {},
   "outputs": [],
   "source": []
  }
 ],
 "metadata": {
  "kernelspec": {
   "display_name": "Python 3 (ipykernel)",
   "language": "python",
   "name": "python3"
  },
  "language_info": {
   "codemirror_mode": {
    "name": "ipython",
    "version": 3
   },
   "file_extension": ".py",
   "mimetype": "text/x-python",
   "name": "python",
   "nbconvert_exporter": "python",
   "pygments_lexer": "ipython3",
   "version": "3.11.7"
  }
 },
 "nbformat": 4,
 "nbformat_minor": 5
}
